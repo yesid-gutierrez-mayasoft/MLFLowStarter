{
 "cells": [
  {
   "cell_type": "markdown",
   "metadata": {},
   "source": [
    "## MLFlow Tracking Server"
   ]
  },
  {
   "cell_type": "code",
   "execution_count": 1,
   "metadata": {},
   "outputs": [
    {
     "name": "stderr",
     "output_type": "stream",
     "text": [
      "2024/11/29 07:43:59 INFO mlflow.tracking.fluent: Experiment with name 'Check localhost connection' does not exist. Creating a new experiment.\n"
     ]
    },
    {
     "data": {
      "text/plain": [
       "<Experiment: artifact_location='mlflow-artifacts:/133969565675133697', creation_time=1732884239678, experiment_id='133969565675133697', last_update_time=1732884239678, lifecycle_stage='active', name='Check localhost connection', tags={}>"
      ]
     },
     "execution_count": 1,
     "metadata": {},
     "output_type": "execute_result"
    }
   ],
   "source": [
    "#experiment and tracking variables\n",
    "hostname = \"127.0.0.1\"\n",
    "port = 5000\n",
    "experiment_name = \"Check localhost connection\"\n",
    "mlflow_url = f\"http://{hostname}:{port}\"\n",
    "\n",
    "import mlflow\n",
    "mlflow.set_tracking_uri(mlflow_url)\n",
    "mlflow.set_experiment(experiment_name)"
   ]
  },
  {
   "cell_type": "code",
   "execution_count": 2,
   "metadata": {},
   "outputs": [
    {
     "name": "stdout",
     "output_type": "stream",
     "text": [
      "🏃 View run Just Testing 2! at: http://127.0.0.1:5000/#/experiments/133969565675133697/runs/82fe2221faa74551992f9cd860664eb1\n",
      "🧪 View experiment at: http://127.0.0.1:5000/#/experiments/133969565675133697\n"
     ]
    }
   ],
   "source": [
    "#logging some information\n",
    "\n",
    "with mlflow.start_run(run_name=\"Just Testing 2!\"):\n",
    "    mlflow.log_metric(\"test\", 1)\n",
    "    mlflow.log_metric(\"Yesid\", 2)"
   ]
  },
  {
   "cell_type": "code",
   "execution_count": 3,
   "metadata": {},
   "outputs": [
    {
     "name": "stdout",
     "output_type": "stream",
     "text": [
      "🏃 View run Just Testing 1! at: http://127.0.0.1:5000/#/experiments/133969565675133697/runs/0423533d2e2e40b7825638260368b935\n",
      "🧪 View experiment at: http://127.0.0.1:5000/#/experiments/133969565675133697\n"
     ]
    }
   ],
   "source": [
    "#logging some information\n",
    "\n",
    "with mlflow.start_run(run_name=\"Just Testing 1!\"):\n",
    "    mlflow.log_metric(\"test\", 2)\n",
    "    mlflow.log_metric(\"Yesid\", 3)"
   ]
  },
  {
   "cell_type": "code",
   "execution_count": null,
   "metadata": {},
   "outputs": [],
   "source": []
  }
 ],
 "metadata": {
  "kernelspec": {
   "display_name": ".venv",
   "language": "python",
   "name": "python3"
  },
  "language_info": {
   "codemirror_mode": {
    "name": "ipython",
    "version": 3
   },
   "file_extension": ".py",
   "mimetype": "text/x-python",
   "name": "python",
   "nbconvert_exporter": "python",
   "pygments_lexer": "ipython3",
   "version": "3.10.8"
  }
 },
 "nbformat": 4,
 "nbformat_minor": 2
}
